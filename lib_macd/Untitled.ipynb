{
 "cells": [
  {
   "cell_type": "code",
   "execution_count": 1,
   "id": "58ccce9a-3ebc-49ec-9d29-ae0df1ffbb5d",
   "metadata": {},
   "outputs": [],
   "source": []
  },
  {
   "cell_type": "code",
   "execution_count": 5,
   "id": "adc5ed7e-452c-414a-8534-4460e902334c",
   "metadata": {},
   "outputs": [],
   "source": [
    "import matplotlib.pyplot as plt\n",
    "import numpy as np\n",
    "import yfinance as yf\n",
    "from backtesting import Backtest, Strategy\n",
    "\n",
    "\n",
    "\n",
    "\n",
    "\n"
   ]
  },
  {
   "cell_type": "code",
   "execution_count": 44,
   "id": "87ab2612-23ea-4c5b-925a-37c0ca16b40f",
   "metadata": {
    "scrolled": true
   },
   "outputs": [
    {
     "name": "stderr",
     "output_type": "stream",
     "text": [
      "[*********************100%***********************]  1 of 1 completed\n",
      "[*********************100%***********************]  1 of 1 completed\n",
      "[*********************100%***********************]  1 of 1 completed"
     ]
    },
    {
     "name": "stdout",
     "output_type": "stream",
     "text": [
      "object initialized\n",
      "data pull complete for:  EURUSD=X\n",
      "data pull complete for:  GBPUSD=X\n",
      "data pull complete for:  JPY=X\n"
     ]
    },
    {
     "name": "stderr",
     "output_type": "stream",
     "text": [
      "\n",
      "[*********************100%***********************]  1 of 1 completed\n",
      "[*********************100%***********************]  1 of 1 completed\n",
      "[*********************100%***********************]  1 of 1 completed\n",
      "[*********************100%***********************]  1 of 1 completed\n",
      "[*********************100%***********************]  1 of 1 completed\n",
      "[*********************100%***********************]  1 of 1 completed\n",
      "[*********************100%***********************]  1 of 1 completed\n",
      "[*********************100%***********************]  1 of 1 completed\n"
     ]
    },
    {
     "name": "stdout",
     "output_type": "stream",
     "text": [
      "data pull complete for:  AUDUSD=X\n",
      "data pull complete for:  CAD=X\n",
      "data pull complete for:  CHF=X\n",
      "data pull complete for:  NZDUSD=X\n",
      "data pull complete for:  CNY=X\n",
      "data pull complete for:  HKD=X\n",
      "data pull complete for:  SGD=X\n",
      "data pull complete for:  INR=X\n"
     ]
    },
    {
     "name": "stderr",
     "output_type": "stream",
     "text": [
      "[*********************100%***********************]  1 of 1 completed\n",
      "[*********************100%***********************]  1 of 1 completed\n",
      "[*********************100%***********************]  1 of 1 completed\n",
      "[*********************100%***********************]  1 of 1 completed\n"
     ]
    },
    {
     "name": "stdout",
     "output_type": "stream",
     "text": [
      "data pull complete for:  RUB=X\n",
      "data pull complete for:  MXN=X\n",
      "data pull complete for:  ZAR=X\n",
      "data pull complete for:  KRW=X\n",
      "11725\n"
     ]
    },
    {
     "name": "stderr",
     "output_type": "stream",
     "text": [
      "  0%|                                                     | 0/3 [00:00<?, ?it/s]/opt/anaconda3/lib/python3.12/site-packages/backtesting/backtesting.py:1375: UserWarning: For multiprocessing support in `Backtest.optimize()` set multiprocessing start method to 'fork'.\n",
      "  warnings.warn(\"For multiprocessing support in `Backtest.optimize()` \"\n"
     ]
    },
    {
     "data": {
      "application/vnd.jupyter.widget-view+json": {
       "model_id": "5147077652b846068849a758c8075a42",
       "version_major": 2,
       "version_minor": 0
      },
      "text/plain": [
       "  0%|          | 0/8 [00:00<?, ?it/s]"
      ]
     },
     "metadata": {},
     "output_type": "display_data"
    },
    {
     "name": "stderr",
     "output_type": "stream",
     "text": [
      " 33%|███████████████                              | 1/3 [00:01<00:03,  1.90s/it]/opt/anaconda3/lib/python3.12/site-packages/backtesting/backtesting.py:1375: UserWarning: For multiprocessing support in `Backtest.optimize()` set multiprocessing start method to 'fork'.\n",
      "  warnings.warn(\"For multiprocessing support in `Backtest.optimize()` \"\n"
     ]
    },
    {
     "data": {
      "application/vnd.jupyter.widget-view+json": {
       "model_id": "903bb79e32f44a10afe1b774ded63821",
       "version_major": 2,
       "version_minor": 0
      },
      "text/plain": [
       "  0%|          | 0/9 [00:00<?, ?it/s]"
      ]
     },
     "metadata": {},
     "output_type": "display_data"
    },
    {
     "name": "stderr",
     "output_type": "stream",
     "text": [
      " 67%|██████████████████████████████               | 2/3 [00:03<00:01,  1.90s/it]/opt/anaconda3/lib/python3.12/site-packages/backtesting/backtesting.py:1375: UserWarning: For multiprocessing support in `Backtest.optimize()` set multiprocessing start method to 'fork'.\n",
      "  warnings.warn(\"For multiprocessing support in `Backtest.optimize()` \"\n"
     ]
    },
    {
     "data": {
      "application/vnd.jupyter.widget-view+json": {
       "model_id": "309d7948be1b424194b354c1cde7b805",
       "version_major": 2,
       "version_minor": 0
      },
      "text/plain": [
       "  0%|          | 0/9 [00:00<?, ?it/s]"
      ]
     },
     "metadata": {},
     "output_type": "display_data"
    },
    {
     "name": "stderr",
     "output_type": "stream",
     "text": [
      "100%|█████████████████████████████████████████████| 3/3 [00:05<00:00,  1.89s/it]\n"
     ]
    },
    {
     "name": "stdout",
     "output_type": "stream",
     "text": [
      "11725\n"
     ]
    },
    {
     "name": "stderr",
     "output_type": "stream",
     "text": [
      "  0%|                                                     | 0/3 [00:00<?, ?it/s]/opt/anaconda3/lib/python3.12/site-packages/backtesting/backtesting.py:1375: UserWarning: For multiprocessing support in `Backtest.optimize()` set multiprocessing start method to 'fork'.\n",
      "  warnings.warn(\"For multiprocessing support in `Backtest.optimize()` \"\n"
     ]
    },
    {
     "data": {
      "application/vnd.jupyter.widget-view+json": {
       "model_id": "641e76eed0e04ecebc9781aeac972bc3",
       "version_major": 2,
       "version_minor": 0
      },
      "text/plain": [
       "  0%|          | 0/9 [00:00<?, ?it/s]"
      ]
     },
     "metadata": {},
     "output_type": "display_data"
    },
    {
     "name": "stderr",
     "output_type": "stream",
     "text": [
      " 33%|███████████████                              | 1/3 [00:02<00:04,  2.06s/it]/opt/anaconda3/lib/python3.12/site-packages/backtesting/backtesting.py:1375: UserWarning: For multiprocessing support in `Backtest.optimize()` set multiprocessing start method to 'fork'.\n",
      "  warnings.warn(\"For multiprocessing support in `Backtest.optimize()` \"\n"
     ]
    },
    {
     "data": {
      "application/vnd.jupyter.widget-view+json": {
       "model_id": "6f0cbaaab29a4bf2bfa97edcc0df21df",
       "version_major": 2,
       "version_minor": 0
      },
      "text/plain": [
       "  0%|          | 0/9 [00:00<?, ?it/s]"
      ]
     },
     "metadata": {},
     "output_type": "display_data"
    },
    {
     "name": "stderr",
     "output_type": "stream",
     "text": [
      " 67%|██████████████████████████████               | 2/3 [00:03<00:01,  1.79s/it]/opt/anaconda3/lib/python3.12/site-packages/backtesting/backtesting.py:1375: UserWarning: For multiprocessing support in `Backtest.optimize()` set multiprocessing start method to 'fork'.\n",
      "  warnings.warn(\"For multiprocessing support in `Backtest.optimize()` \"\n"
     ]
    },
    {
     "data": {
      "application/vnd.jupyter.widget-view+json": {
       "model_id": "73efc48d3764471c929dfb3a979f313a",
       "version_major": 2,
       "version_minor": 0
      },
      "text/plain": [
       "  0%|          | 0/9 [00:00<?, ?it/s]"
      ]
     },
     "metadata": {},
     "output_type": "display_data"
    },
    {
     "name": "stderr",
     "output_type": "stream",
     "text": [
      "100%|█████████████████████████████████████████████| 3/3 [00:05<00:00,  1.82s/it]\n"
     ]
    },
    {
     "name": "stdout",
     "output_type": "stream",
     "text": [
      "11655\n"
     ]
    },
    {
     "name": "stderr",
     "output_type": "stream",
     "text": [
      "  0%|                                                     | 0/3 [00:00<?, ?it/s]/opt/anaconda3/lib/python3.12/site-packages/backtesting/backtesting.py:1375: UserWarning: For multiprocessing support in `Backtest.optimize()` set multiprocessing start method to 'fork'.\n",
      "  warnings.warn(\"For multiprocessing support in `Backtest.optimize()` \"\n"
     ]
    },
    {
     "data": {
      "application/vnd.jupyter.widget-view+json": {
       "model_id": "b880803c7c57440bab72a1c8664dab8b",
       "version_major": 2,
       "version_minor": 0
      },
      "text/plain": [
       "  0%|          | 0/8 [00:00<?, ?it/s]"
      ]
     },
     "metadata": {},
     "output_type": "display_data"
    },
    {
     "name": "stderr",
     "output_type": "stream",
     "text": [
      " 33%|███████████████                              | 1/3 [00:02<00:04,  2.03s/it]/opt/anaconda3/lib/python3.12/site-packages/backtesting/backtesting.py:1375: UserWarning: For multiprocessing support in `Backtest.optimize()` set multiprocessing start method to 'fork'.\n",
      "  warnings.warn(\"For multiprocessing support in `Backtest.optimize()` \"\n"
     ]
    },
    {
     "data": {
      "application/vnd.jupyter.widget-view+json": {
       "model_id": "07cd53aa94b2422a94fd772ec0e997fd",
       "version_major": 2,
       "version_minor": 0
      },
      "text/plain": [
       "  0%|          | 0/9 [00:00<?, ?it/s]"
      ]
     },
     "metadata": {},
     "output_type": "display_data"
    },
    {
     "name": "stderr",
     "output_type": "stream",
     "text": [
      " 67%|██████████████████████████████               | 2/3 [00:03<00:01,  1.86s/it]/opt/anaconda3/lib/python3.12/site-packages/backtesting/backtesting.py:1375: UserWarning: For multiprocessing support in `Backtest.optimize()` set multiprocessing start method to 'fork'.\n",
      "  warnings.warn(\"For multiprocessing support in `Backtest.optimize()` \"\n"
     ]
    },
    {
     "data": {
      "application/vnd.jupyter.widget-view+json": {
       "model_id": "40124b825970423a9fcf6ca6e5f76f9c",
       "version_major": 2,
       "version_minor": 0
      },
      "text/plain": [
       "  0%|          | 0/9 [00:00<?, ?it/s]"
      ]
     },
     "metadata": {},
     "output_type": "display_data"
    },
    {
     "name": "stderr",
     "output_type": "stream",
     "text": [
      "100%|█████████████████████████████████████████████| 3/3 [00:05<00:00,  1.85s/it]\n"
     ]
    },
    {
     "name": "stdout",
     "output_type": "stream",
     "text": [
      "11761\n"
     ]
    },
    {
     "name": "stderr",
     "output_type": "stream",
     "text": [
      "  0%|                                                     | 0/3 [00:00<?, ?it/s]/opt/anaconda3/lib/python3.12/site-packages/backtesting/backtesting.py:1375: UserWarning: For multiprocessing support in `Backtest.optimize()` set multiprocessing start method to 'fork'.\n",
      "  warnings.warn(\"For multiprocessing support in `Backtest.optimize()` \"\n"
     ]
    },
    {
     "data": {
      "application/vnd.jupyter.widget-view+json": {
       "model_id": "82a7ec691a264830a424f38e763f3fdd",
       "version_major": 2,
       "version_minor": 0
      },
      "text/plain": [
       "  0%|          | 0/9 [00:00<?, ?it/s]"
      ]
     },
     "metadata": {},
     "output_type": "display_data"
    },
    {
     "name": "stderr",
     "output_type": "stream",
     "text": [
      " 33%|███████████████                              | 1/3 [00:01<00:03,  1.88s/it]/opt/anaconda3/lib/python3.12/site-packages/backtesting/backtesting.py:1375: UserWarning: For multiprocessing support in `Backtest.optimize()` set multiprocessing start method to 'fork'.\n",
      "  warnings.warn(\"For multiprocessing support in `Backtest.optimize()` \"\n"
     ]
    },
    {
     "data": {
      "application/vnd.jupyter.widget-view+json": {
       "model_id": "7a05dc9fe5ba4c1caeb94a2086759423",
       "version_major": 2,
       "version_minor": 0
      },
      "text/plain": [
       "  0%|          | 0/9 [00:00<?, ?it/s]"
      ]
     },
     "metadata": {},
     "output_type": "display_data"
    },
    {
     "name": "stderr",
     "output_type": "stream",
     "text": [
      " 67%|██████████████████████████████               | 2/3 [00:03<00:01,  1.85s/it]/opt/anaconda3/lib/python3.12/site-packages/backtesting/backtesting.py:1375: UserWarning: For multiprocessing support in `Backtest.optimize()` set multiprocessing start method to 'fork'.\n",
      "  warnings.warn(\"For multiprocessing support in `Backtest.optimize()` \"\n"
     ]
    },
    {
     "data": {
      "application/vnd.jupyter.widget-view+json": {
       "model_id": "2b33de9928a648738dd95bcd0a8c792d",
       "version_major": 2,
       "version_minor": 0
      },
      "text/plain": [
       "  0%|          | 0/9 [00:00<?, ?it/s]"
      ]
     },
     "metadata": {},
     "output_type": "display_data"
    },
    {
     "name": "stderr",
     "output_type": "stream",
     "text": [
      "100%|█████████████████████████████████████████████| 3/3 [00:05<00:00,  1.85s/it]\n"
     ]
    },
    {
     "name": "stdout",
     "output_type": "stream",
     "text": [
      "11772\n"
     ]
    },
    {
     "name": "stderr",
     "output_type": "stream",
     "text": [
      "  0%|                                                     | 0/3 [00:00<?, ?it/s]/opt/anaconda3/lib/python3.12/site-packages/backtesting/backtesting.py:1375: UserWarning: For multiprocessing support in `Backtest.optimize()` set multiprocessing start method to 'fork'.\n",
      "  warnings.warn(\"For multiprocessing support in `Backtest.optimize()` \"\n"
     ]
    },
    {
     "data": {
      "application/vnd.jupyter.widget-view+json": {
       "model_id": "bf6860c83dc24530b59ef84c7cb3ccc9",
       "version_major": 2,
       "version_minor": 0
      },
      "text/plain": [
       "  0%|          | 0/9 [00:00<?, ?it/s]"
      ]
     },
     "metadata": {},
     "output_type": "display_data"
    },
    {
     "name": "stderr",
     "output_type": "stream",
     "text": [
      " 33%|███████████████                              | 1/3 [00:01<00:03,  2.00s/it]/opt/anaconda3/lib/python3.12/site-packages/backtesting/backtesting.py:1375: UserWarning: For multiprocessing support in `Backtest.optimize()` set multiprocessing start method to 'fork'.\n",
      "  warnings.warn(\"For multiprocessing support in `Backtest.optimize()` \"\n"
     ]
    },
    {
     "data": {
      "application/vnd.jupyter.widget-view+json": {
       "model_id": "cbb328e835c64702a11cedbb3fb65bbe",
       "version_major": 2,
       "version_minor": 0
      },
      "text/plain": [
       "  0%|          | 0/9 [00:00<?, ?it/s]"
      ]
     },
     "metadata": {},
     "output_type": "display_data"
    },
    {
     "name": "stderr",
     "output_type": "stream",
     "text": [
      " 67%|██████████████████████████████               | 2/3 [00:03<00:01,  1.90s/it]/opt/anaconda3/lib/python3.12/site-packages/backtesting/backtesting.py:1375: UserWarning: For multiprocessing support in `Backtest.optimize()` set multiprocessing start method to 'fork'.\n",
      "  warnings.warn(\"For multiprocessing support in `Backtest.optimize()` \"\n"
     ]
    },
    {
     "data": {
      "application/vnd.jupyter.widget-view+json": {
       "model_id": "a470c8ba0b9a44baa237d5a66528ebf1",
       "version_major": 2,
       "version_minor": 0
      },
      "text/plain": [
       "  0%|          | 0/9 [00:00<?, ?it/s]"
      ]
     },
     "metadata": {},
     "output_type": "display_data"
    },
    {
     "name": "stderr",
     "output_type": "stream",
     "text": [
      "100%|█████████████████████████████████████████████| 3/3 [00:05<00:00,  1.81s/it]\n"
     ]
    },
    {
     "name": "stdout",
     "output_type": "stream",
     "text": [
      "11692\n"
     ]
    },
    {
     "name": "stderr",
     "output_type": "stream",
     "text": [
      "  0%|                                                     | 0/3 [00:00<?, ?it/s]/opt/anaconda3/lib/python3.12/site-packages/backtesting/backtesting.py:1375: UserWarning: For multiprocessing support in `Backtest.optimize()` set multiprocessing start method to 'fork'.\n",
      "  warnings.warn(\"For multiprocessing support in `Backtest.optimize()` \"\n"
     ]
    },
    {
     "data": {
      "application/vnd.jupyter.widget-view+json": {
       "model_id": "6583dc2722304080b88f706b91f80100",
       "version_major": 2,
       "version_minor": 0
      },
      "text/plain": [
       "  0%|          | 0/9 [00:00<?, ?it/s]"
      ]
     },
     "metadata": {},
     "output_type": "display_data"
    },
    {
     "name": "stderr",
     "output_type": "stream",
     "text": [
      " 33%|███████████████                              | 1/3 [00:01<00:03,  1.79s/it]/opt/anaconda3/lib/python3.12/site-packages/backtesting/backtesting.py:1375: UserWarning: For multiprocessing support in `Backtest.optimize()` set multiprocessing start method to 'fork'.\n",
      "  warnings.warn(\"For multiprocessing support in `Backtest.optimize()` \"\n"
     ]
    },
    {
     "data": {
      "application/vnd.jupyter.widget-view+json": {
       "model_id": "1c0d73324dee48f49df76ed0c3ef54ef",
       "version_major": 2,
       "version_minor": 0
      },
      "text/plain": [
       "  0%|          | 0/9 [00:00<?, ?it/s]"
      ]
     },
     "metadata": {},
     "output_type": "display_data"
    },
    {
     "name": "stderr",
     "output_type": "stream",
     "text": [
      " 67%|██████████████████████████████               | 2/3 [00:03<00:01,  1.64s/it]/opt/anaconda3/lib/python3.12/site-packages/backtesting/backtesting.py:1375: UserWarning: For multiprocessing support in `Backtest.optimize()` set multiprocessing start method to 'fork'.\n",
      "  warnings.warn(\"For multiprocessing support in `Backtest.optimize()` \"\n"
     ]
    },
    {
     "data": {
      "application/vnd.jupyter.widget-view+json": {
       "model_id": "291167ab817143c59fdd6d3437634a55",
       "version_major": 2,
       "version_minor": 0
      },
      "text/plain": [
       "  0%|          | 0/9 [00:00<?, ?it/s]"
      ]
     },
     "metadata": {},
     "output_type": "display_data"
    },
    {
     "name": "stderr",
     "output_type": "stream",
     "text": [
      "100%|█████████████████████████████████████████████| 3/3 [00:05<00:00,  1.67s/it]\n"
     ]
    },
    {
     "name": "stdout",
     "output_type": "stream",
     "text": [
      "11743\n"
     ]
    },
    {
     "name": "stderr",
     "output_type": "stream",
     "text": [
      "  0%|                                                     | 0/3 [00:00<?, ?it/s]/opt/anaconda3/lib/python3.12/site-packages/backtesting/backtesting.py:1375: UserWarning: For multiprocessing support in `Backtest.optimize()` set multiprocessing start method to 'fork'.\n",
      "  warnings.warn(\"For multiprocessing support in `Backtest.optimize()` \"\n"
     ]
    },
    {
     "data": {
      "application/vnd.jupyter.widget-view+json": {
       "model_id": "d359791b2b454a75848692c444c62603",
       "version_major": 2,
       "version_minor": 0
      },
      "text/plain": [
       "  0%|          | 0/8 [00:00<?, ?it/s]"
      ]
     },
     "metadata": {},
     "output_type": "display_data"
    },
    {
     "name": "stderr",
     "output_type": "stream",
     "text": [
      " 33%|███████████████                              | 1/3 [00:01<00:02,  1.49s/it]/opt/anaconda3/lib/python3.12/site-packages/backtesting/backtesting.py:1375: UserWarning: For multiprocessing support in `Backtest.optimize()` set multiprocessing start method to 'fork'.\n",
      "  warnings.warn(\"For multiprocessing support in `Backtest.optimize()` \"\n"
     ]
    },
    {
     "data": {
      "application/vnd.jupyter.widget-view+json": {
       "model_id": "dba570ef1e574f05bae24c1f6095e311",
       "version_major": 2,
       "version_minor": 0
      },
      "text/plain": [
       "  0%|          | 0/9 [00:00<?, ?it/s]"
      ]
     },
     "metadata": {},
     "output_type": "display_data"
    },
    {
     "name": "stderr",
     "output_type": "stream",
     "text": [
      " 67%|██████████████████████████████               | 2/3 [00:03<00:01,  1.55s/it]/opt/anaconda3/lib/python3.12/site-packages/backtesting/backtesting.py:1375: UserWarning: For multiprocessing support in `Backtest.optimize()` set multiprocessing start method to 'fork'.\n",
      "  warnings.warn(\"For multiprocessing support in `Backtest.optimize()` \"\n"
     ]
    },
    {
     "data": {
      "application/vnd.jupyter.widget-view+json": {
       "model_id": "a9938b62b067453c829808da079bab45",
       "version_major": 2,
       "version_minor": 0
      },
      "text/plain": [
       "  0%|          | 0/9 [00:00<?, ?it/s]"
      ]
     },
     "metadata": {},
     "output_type": "display_data"
    },
    {
     "name": "stderr",
     "output_type": "stream",
     "text": [
      "100%|█████████████████████████████████████████████| 3/3 [00:04<00:00,  1.56s/it]\n"
     ]
    },
    {
     "name": "stdout",
     "output_type": "stream",
     "text": [
      "9040\n"
     ]
    },
    {
     "name": "stderr",
     "output_type": "stream",
     "text": [
      "  0%|                                                     | 0/3 [00:00<?, ?it/s]/opt/anaconda3/lib/python3.12/site-packages/backtesting/backtesting.py:1375: UserWarning: For multiprocessing support in `Backtest.optimize()` set multiprocessing start method to 'fork'.\n",
      "  warnings.warn(\"For multiprocessing support in `Backtest.optimize()` \"\n"
     ]
    },
    {
     "data": {
      "application/vnd.jupyter.widget-view+json": {
       "model_id": "30ddaf8e3edb47b4968f18824be36e25",
       "version_major": 2,
       "version_minor": 0
      },
      "text/plain": [
       "  0%|          | 0/8 [00:00<?, ?it/s]"
      ]
     },
     "metadata": {},
     "output_type": "display_data"
    },
    {
     "name": "stderr",
     "output_type": "stream",
     "text": [
      " 33%|███████████████                              | 1/3 [00:01<00:03,  1.61s/it]/opt/anaconda3/lib/python3.12/site-packages/backtesting/backtesting.py:1375: UserWarning: For multiprocessing support in `Backtest.optimize()` set multiprocessing start method to 'fork'.\n",
      "  warnings.warn(\"For multiprocessing support in `Backtest.optimize()` \"\n"
     ]
    },
    {
     "data": {
      "application/vnd.jupyter.widget-view+json": {
       "model_id": "619ad9b89b5f4b739d87e2d005390819",
       "version_major": 2,
       "version_minor": 0
      },
      "text/plain": [
       "  0%|          | 0/9 [00:00<?, ?it/s]"
      ]
     },
     "metadata": {},
     "output_type": "display_data"
    },
    {
     "name": "stderr",
     "output_type": "stream",
     "text": [
      " 67%|██████████████████████████████               | 2/3 [00:03<00:01,  1.69s/it]/opt/anaconda3/lib/python3.12/site-packages/backtesting/backtesting.py:1375: UserWarning: For multiprocessing support in `Backtest.optimize()` set multiprocessing start method to 'fork'.\n",
      "  warnings.warn(\"For multiprocessing support in `Backtest.optimize()` \"\n"
     ]
    },
    {
     "data": {
      "application/vnd.jupyter.widget-view+json": {
       "model_id": "3de162f732364134a596c4b8c0437365",
       "version_major": 2,
       "version_minor": 0
      },
      "text/plain": [
       "  0%|          | 0/9 [00:00<?, ?it/s]"
      ]
     },
     "metadata": {},
     "output_type": "display_data"
    },
    {
     "name": "stderr",
     "output_type": "stream",
     "text": [
      "100%|█████████████████████████████████████████████| 3/3 [00:05<00:00,  1.68s/it]\n"
     ]
    },
    {
     "name": "stdout",
     "output_type": "stream",
     "text": [
      "11765\n"
     ]
    },
    {
     "name": "stderr",
     "output_type": "stream",
     "text": [
      "  0%|                                                     | 0/3 [00:00<?, ?it/s]/opt/anaconda3/lib/python3.12/site-packages/backtesting/backtesting.py:1375: UserWarning: For multiprocessing support in `Backtest.optimize()` set multiprocessing start method to 'fork'.\n",
      "  warnings.warn(\"For multiprocessing support in `Backtest.optimize()` \"\n"
     ]
    },
    {
     "data": {
      "application/vnd.jupyter.widget-view+json": {
       "model_id": "193cb828bee944c7a66dd145c025df4a",
       "version_major": 2,
       "version_minor": 0
      },
      "text/plain": [
       "  0%|          | 0/9 [00:00<?, ?it/s]"
      ]
     },
     "metadata": {},
     "output_type": "display_data"
    },
    {
     "name": "stderr",
     "output_type": "stream",
     "text": [
      " 33%|███████████████                              | 1/3 [00:02<00:04,  2.16s/it]/opt/anaconda3/lib/python3.12/site-packages/backtesting/backtesting.py:1375: UserWarning: For multiprocessing support in `Backtest.optimize()` set multiprocessing start method to 'fork'.\n",
      "  warnings.warn(\"For multiprocessing support in `Backtest.optimize()` \"\n"
     ]
    },
    {
     "data": {
      "application/vnd.jupyter.widget-view+json": {
       "model_id": "1087749613ca4544a46535486b637a07",
       "version_major": 2,
       "version_minor": 0
      },
      "text/plain": [
       "  0%|          | 0/9 [00:00<?, ?it/s]"
      ]
     },
     "metadata": {},
     "output_type": "display_data"
    },
    {
     "name": "stderr",
     "output_type": "stream",
     "text": [
      " 67%|██████████████████████████████               | 2/3 [00:04<00:01,  1.99s/it]/opt/anaconda3/lib/python3.12/site-packages/backtesting/backtesting.py:1375: UserWarning: For multiprocessing support in `Backtest.optimize()` set multiprocessing start method to 'fork'.\n",
      "  warnings.warn(\"For multiprocessing support in `Backtest.optimize()` \"\n"
     ]
    },
    {
     "data": {
      "application/vnd.jupyter.widget-view+json": {
       "model_id": "d8c2b79de58140539db3276765b99e5a",
       "version_major": 2,
       "version_minor": 0
      },
      "text/plain": [
       "  0%|          | 0/9 [00:00<?, ?it/s]"
      ]
     },
     "metadata": {},
     "output_type": "display_data"
    },
    {
     "name": "stderr",
     "output_type": "stream",
     "text": [
      "100%|█████████████████████████████████████████████| 3/3 [00:06<00:00,  2.01s/it]\n"
     ]
    },
    {
     "name": "stdout",
     "output_type": "stream",
     "text": [
      "11715\n"
     ]
    },
    {
     "name": "stderr",
     "output_type": "stream",
     "text": [
      "  0%|                                                     | 0/3 [00:00<?, ?it/s]/opt/anaconda3/lib/python3.12/site-packages/backtesting/backtesting.py:1375: UserWarning: For multiprocessing support in `Backtest.optimize()` set multiprocessing start method to 'fork'.\n",
      "  warnings.warn(\"For multiprocessing support in `Backtest.optimize()` \"\n"
     ]
    },
    {
     "data": {
      "application/vnd.jupyter.widget-view+json": {
       "model_id": "d475f25adc414d77bca423cafc44bd90",
       "version_major": 2,
       "version_minor": 0
      },
      "text/plain": [
       "  0%|          | 0/8 [00:00<?, ?it/s]"
      ]
     },
     "metadata": {},
     "output_type": "display_data"
    },
    {
     "name": "stderr",
     "output_type": "stream",
     "text": [
      " 33%|███████████████                              | 1/3 [00:01<00:03,  1.67s/it]/opt/anaconda3/lib/python3.12/site-packages/backtesting/backtesting.py:1375: UserWarning: For multiprocessing support in `Backtest.optimize()` set multiprocessing start method to 'fork'.\n",
      "  warnings.warn(\"For multiprocessing support in `Backtest.optimize()` \"\n"
     ]
    },
    {
     "data": {
      "application/vnd.jupyter.widget-view+json": {
       "model_id": "3c111588394d46ee82bf29e353305c20",
       "version_major": 2,
       "version_minor": 0
      },
      "text/plain": [
       "  0%|          | 0/9 [00:00<?, ?it/s]"
      ]
     },
     "metadata": {},
     "output_type": "display_data"
    },
    {
     "name": "stderr",
     "output_type": "stream",
     "text": [
      " 67%|██████████████████████████████               | 2/3 [00:03<00:01,  1.81s/it]/opt/anaconda3/lib/python3.12/site-packages/backtesting/backtesting.py:1375: UserWarning: For multiprocessing support in `Backtest.optimize()` set multiprocessing start method to 'fork'.\n",
      "  warnings.warn(\"For multiprocessing support in `Backtest.optimize()` \"\n"
     ]
    },
    {
     "data": {
      "application/vnd.jupyter.widget-view+json": {
       "model_id": "c9c55303621042fdb1e773df37da692c",
       "version_major": 2,
       "version_minor": 0
      },
      "text/plain": [
       "  0%|          | 0/9 [00:00<?, ?it/s]"
      ]
     },
     "metadata": {},
     "output_type": "display_data"
    },
    {
     "name": "stderr",
     "output_type": "stream",
     "text": [
      "100%|█████████████████████████████████████████████| 3/3 [00:05<00:00,  1.89s/it]\n"
     ]
    },
    {
     "name": "stdout",
     "output_type": "stream",
     "text": [
      "9933\n"
     ]
    },
    {
     "name": "stderr",
     "output_type": "stream",
     "text": [
      "  0%|                                                     | 0/3 [00:00<?, ?it/s]/opt/anaconda3/lib/python3.12/site-packages/backtesting/backtesting.py:1375: UserWarning: For multiprocessing support in `Backtest.optimize()` set multiprocessing start method to 'fork'.\n",
      "  warnings.warn(\"For multiprocessing support in `Backtest.optimize()` \"\n"
     ]
    },
    {
     "data": {
      "application/vnd.jupyter.widget-view+json": {
       "model_id": "d6a83c5ba3fd4017a56792c57388f4f5",
       "version_major": 2,
       "version_minor": 0
      },
      "text/plain": [
       "  0%|          | 0/9 [00:00<?, ?it/s]"
      ]
     },
     "metadata": {},
     "output_type": "display_data"
    },
    {
     "name": "stderr",
     "output_type": "stream",
     "text": [
      " 33%|███████████████                              | 1/3 [00:01<00:03,  1.57s/it]/opt/anaconda3/lib/python3.12/site-packages/backtesting/backtesting.py:1375: UserWarning: For multiprocessing support in `Backtest.optimize()` set multiprocessing start method to 'fork'.\n",
      "  warnings.warn(\"For multiprocessing support in `Backtest.optimize()` \"\n"
     ]
    },
    {
     "data": {
      "application/vnd.jupyter.widget-view+json": {
       "model_id": "0eb2d8583a8b4289a37472c97015d86a",
       "version_major": 2,
       "version_minor": 0
      },
      "text/plain": [
       "  0%|          | 0/9 [00:00<?, ?it/s]"
      ]
     },
     "metadata": {},
     "output_type": "display_data"
    },
    {
     "name": "stderr",
     "output_type": "stream",
     "text": [
      " 67%|██████████████████████████████               | 2/3 [00:03<00:01,  1.79s/it]/opt/anaconda3/lib/python3.12/site-packages/backtesting/backtesting.py:1375: UserWarning: For multiprocessing support in `Backtest.optimize()` set multiprocessing start method to 'fork'.\n",
      "  warnings.warn(\"For multiprocessing support in `Backtest.optimize()` \"\n"
     ]
    },
    {
     "data": {
      "application/vnd.jupyter.widget-view+json": {
       "model_id": "26baf408fd0c4918b3009a3f1582de99",
       "version_major": 2,
       "version_minor": 0
      },
      "text/plain": [
       "  0%|          | 0/9 [00:00<?, ?it/s]"
      ]
     },
     "metadata": {},
     "output_type": "display_data"
    },
    {
     "name": "stderr",
     "output_type": "stream",
     "text": [
      "100%|█████████████████████████████████████████████| 3/3 [00:05<00:00,  1.71s/it]\n"
     ]
    },
    {
     "name": "stdout",
     "output_type": "stream",
     "text": [
      "9976\n"
     ]
    },
    {
     "name": "stderr",
     "output_type": "stream",
     "text": [
      "  0%|                                                     | 0/3 [00:00<?, ?it/s]/opt/anaconda3/lib/python3.12/site-packages/backtesting/backtesting.py:1375: UserWarning: For multiprocessing support in `Backtest.optimize()` set multiprocessing start method to 'fork'.\n",
      "  warnings.warn(\"For multiprocessing support in `Backtest.optimize()` \"\n"
     ]
    },
    {
     "data": {
      "application/vnd.jupyter.widget-view+json": {
       "model_id": "b803c9724e224d129da51274d8fd8ac5",
       "version_major": 2,
       "version_minor": 0
      },
      "text/plain": [
       "  0%|          | 0/8 [00:00<?, ?it/s]"
      ]
     },
     "metadata": {},
     "output_type": "display_data"
    },
    {
     "name": "stderr",
     "output_type": "stream",
     "text": [
      " 33%|███████████████                              | 1/3 [00:01<00:03,  1.87s/it]/opt/anaconda3/lib/python3.12/site-packages/backtesting/backtesting.py:1375: UserWarning: For multiprocessing support in `Backtest.optimize()` set multiprocessing start method to 'fork'.\n",
      "  warnings.warn(\"For multiprocessing support in `Backtest.optimize()` \"\n"
     ]
    },
    {
     "data": {
      "application/vnd.jupyter.widget-view+json": {
       "model_id": "50f77dde71a34778ba2f31a0b3b2cd49",
       "version_major": 2,
       "version_minor": 0
      },
      "text/plain": [
       "  0%|          | 0/8 [00:00<?, ?it/s]"
      ]
     },
     "metadata": {},
     "output_type": "display_data"
    },
    {
     "name": "stderr",
     "output_type": "stream",
     "text": [
      " 67%|██████████████████████████████               | 2/3 [00:03<00:01,  1.61s/it]/opt/anaconda3/lib/python3.12/site-packages/backtesting/backtesting.py:1375: UserWarning: For multiprocessing support in `Backtest.optimize()` set multiprocessing start method to 'fork'.\n",
      "  warnings.warn(\"For multiprocessing support in `Backtest.optimize()` \"\n"
     ]
    },
    {
     "data": {
      "application/vnd.jupyter.widget-view+json": {
       "model_id": "038d8ddedc7e400b961be0740ca4814e",
       "version_major": 2,
       "version_minor": 0
      },
      "text/plain": [
       "  0%|          | 0/9 [00:00<?, ?it/s]"
      ]
     },
     "metadata": {},
     "output_type": "display_data"
    },
    {
     "name": "stderr",
     "output_type": "stream",
     "text": [
      "100%|█████████████████████████████████████████████| 3/3 [00:05<00:00,  1.69s/it]\n"
     ]
    },
    {
     "name": "stdout",
     "output_type": "stream",
     "text": [
      "11753\n"
     ]
    },
    {
     "name": "stderr",
     "output_type": "stream",
     "text": [
      "  0%|                                                     | 0/3 [00:00<?, ?it/s]/opt/anaconda3/lib/python3.12/site-packages/backtesting/backtesting.py:1375: UserWarning: For multiprocessing support in `Backtest.optimize()` set multiprocessing start method to 'fork'.\n",
      "  warnings.warn(\"For multiprocessing support in `Backtest.optimize()` \"\n"
     ]
    },
    {
     "data": {
      "application/vnd.jupyter.widget-view+json": {
       "model_id": "678f8e56d6314cac87d61e6ba49f1bc8",
       "version_major": 2,
       "version_minor": 0
      },
      "text/plain": [
       "  0%|          | 0/9 [00:00<?, ?it/s]"
      ]
     },
     "metadata": {},
     "output_type": "display_data"
    },
    {
     "name": "stderr",
     "output_type": "stream",
     "text": [
      " 33%|███████████████                              | 1/3 [00:01<00:03,  1.64s/it]/opt/anaconda3/lib/python3.12/site-packages/backtesting/backtesting.py:1375: UserWarning: For multiprocessing support in `Backtest.optimize()` set multiprocessing start method to 'fork'.\n",
      "  warnings.warn(\"For multiprocessing support in `Backtest.optimize()` \"\n"
     ]
    },
    {
     "data": {
      "application/vnd.jupyter.widget-view+json": {
       "model_id": "7ebbf8fc0c0047febfcec758619c02fd",
       "version_major": 2,
       "version_minor": 0
      },
      "text/plain": [
       "  0%|          | 0/9 [00:00<?, ?it/s]"
      ]
     },
     "metadata": {},
     "output_type": "display_data"
    },
    {
     "name": "stderr",
     "output_type": "stream",
     "text": [
      " 67%|██████████████████████████████               | 2/3 [00:03<00:01,  1.67s/it]/opt/anaconda3/lib/python3.12/site-packages/backtesting/backtesting.py:1375: UserWarning: For multiprocessing support in `Backtest.optimize()` set multiprocessing start method to 'fork'.\n",
      "  warnings.warn(\"For multiprocessing support in `Backtest.optimize()` \"\n"
     ]
    },
    {
     "data": {
      "application/vnd.jupyter.widget-view+json": {
       "model_id": "d25e59b8eedc4f55b9758dda9b89d110",
       "version_major": 2,
       "version_minor": 0
      },
      "text/plain": [
       "  0%|          | 0/9 [00:00<?, ?it/s]"
      ]
     },
     "metadata": {},
     "output_type": "display_data"
    },
    {
     "name": "stderr",
     "output_type": "stream",
     "text": [
      "100%|█████████████████████████████████████████████| 3/3 [00:05<00:00,  1.76s/it]\n"
     ]
    },
    {
     "name": "stdout",
     "output_type": "stream",
     "text": [
      "11765\n"
     ]
    },
    {
     "name": "stderr",
     "output_type": "stream",
     "text": [
      "  0%|                                                     | 0/3 [00:00<?, ?it/s]/opt/anaconda3/lib/python3.12/site-packages/backtesting/backtesting.py:1375: UserWarning: For multiprocessing support in `Backtest.optimize()` set multiprocessing start method to 'fork'.\n",
      "  warnings.warn(\"For multiprocessing support in `Backtest.optimize()` \"\n"
     ]
    },
    {
     "data": {
      "application/vnd.jupyter.widget-view+json": {
       "model_id": "fada5e92bf174434af7f785dcba28f51",
       "version_major": 2,
       "version_minor": 0
      },
      "text/plain": [
       "  0%|          | 0/9 [00:00<?, ?it/s]"
      ]
     },
     "metadata": {},
     "output_type": "display_data"
    },
    {
     "name": "stderr",
     "output_type": "stream",
     "text": [
      " 33%|███████████████                              | 1/3 [00:01<00:03,  1.76s/it]/opt/anaconda3/lib/python3.12/site-packages/backtesting/backtesting.py:1375: UserWarning: For multiprocessing support in `Backtest.optimize()` set multiprocessing start method to 'fork'.\n",
      "  warnings.warn(\"For multiprocessing support in `Backtest.optimize()` \"\n"
     ]
    },
    {
     "data": {
      "application/vnd.jupyter.widget-view+json": {
       "model_id": "9bc734eaf1534b2787fb5c3e1342a0a1",
       "version_major": 2,
       "version_minor": 0
      },
      "text/plain": [
       "  0%|          | 0/8 [00:00<?, ?it/s]"
      ]
     },
     "metadata": {},
     "output_type": "display_data"
    },
    {
     "name": "stderr",
     "output_type": "stream",
     "text": [
      " 67%|██████████████████████████████               | 2/3 [00:03<00:01,  1.98s/it]/opt/anaconda3/lib/python3.12/site-packages/backtesting/backtesting.py:1375: UserWarning: For multiprocessing support in `Backtest.optimize()` set multiprocessing start method to 'fork'.\n",
      "  warnings.warn(\"For multiprocessing support in `Backtest.optimize()` \"\n"
     ]
    },
    {
     "data": {
      "application/vnd.jupyter.widget-view+json": {
       "model_id": "dc30c237838345938898750ea621ee71",
       "version_major": 2,
       "version_minor": 0
      },
      "text/plain": [
       "  0%|          | 0/9 [00:00<?, ?it/s]"
      ]
     },
     "metadata": {},
     "output_type": "display_data"
    },
    {
     "name": "stderr",
     "output_type": "stream",
     "text": [
      "100%|█████████████████████████████████████████████| 3/3 [00:05<00:00,  1.81s/it]\n"
     ]
    },
    {
     "name": "stdout",
     "output_type": "stream",
     "text": [
      "10973\n"
     ]
    },
    {
     "name": "stderr",
     "output_type": "stream",
     "text": [
      "  0%|                                                     | 0/3 [00:00<?, ?it/s]/opt/anaconda3/lib/python3.12/site-packages/backtesting/backtesting.py:1375: UserWarning: For multiprocessing support in `Backtest.optimize()` set multiprocessing start method to 'fork'.\n",
      "  warnings.warn(\"For multiprocessing support in `Backtest.optimize()` \"\n"
     ]
    },
    {
     "data": {
      "application/vnd.jupyter.widget-view+json": {
       "model_id": "eaa13ae183b244ec82ac328dffe186ad",
       "version_major": 2,
       "version_minor": 0
      },
      "text/plain": [
       "  0%|          | 0/9 [00:00<?, ?it/s]"
      ]
     },
     "metadata": {},
     "output_type": "display_data"
    },
    {
     "name": "stderr",
     "output_type": "stream",
     "text": [
      " 33%|███████████████                              | 1/3 [00:01<00:03,  1.85s/it]/opt/anaconda3/lib/python3.12/site-packages/backtesting/backtesting.py:1375: UserWarning: For multiprocessing support in `Backtest.optimize()` set multiprocessing start method to 'fork'.\n",
      "  warnings.warn(\"For multiprocessing support in `Backtest.optimize()` \"\n"
     ]
    },
    {
     "data": {
      "application/vnd.jupyter.widget-view+json": {
       "model_id": "90b798407d1d432a8945f06f74ad12b0",
       "version_major": 2,
       "version_minor": 0
      },
      "text/plain": [
       "  0%|          | 0/9 [00:00<?, ?it/s]"
      ]
     },
     "metadata": {},
     "output_type": "display_data"
    },
    {
     "name": "stderr",
     "output_type": "stream",
     "text": [
      " 67%|██████████████████████████████               | 2/3 [00:03<00:01,  1.86s/it]/opt/anaconda3/lib/python3.12/site-packages/backtesting/backtesting.py:1375: UserWarning: For multiprocessing support in `Backtest.optimize()` set multiprocessing start method to 'fork'.\n",
      "  warnings.warn(\"For multiprocessing support in `Backtest.optimize()` \"\n"
     ]
    },
    {
     "data": {
      "application/vnd.jupyter.widget-view+json": {
       "model_id": "0a02361c3b32488581aeaab2d3390fe2",
       "version_major": 2,
       "version_minor": 0
      },
      "text/plain": [
       "  0%|          | 0/9 [00:00<?, ?it/s]"
      ]
     },
     "metadata": {},
     "output_type": "display_data"
    },
    {
     "name": "stderr",
     "output_type": "stream",
     "text": [
      "100%|█████████████████████████████████████████████| 3/3 [00:05<00:00,  1.83s/it]\n"
     ]
    }
   ],
   "source": [
    "import numpy as np\n",
    "import pandas as pd\n",
    "import os\n",
    "from backtesting import Backtest, Strategy\n",
    "from datetime import datetime, timedelta, date\n",
    "import yfinance as yf\n",
    "from tqdm import tqdm\n",
    "import pytz\n",
    "import talib\n",
    "\n",
    "\n",
    "def walk_forward_macd(df_prices, MACDStrategy, iterations, fast_periods, slow_periods, signal_periods, metric, output_file='macd_walk_forward_results.csv'):\n",
    "    report = []\n",
    "\n",
    "    # Iterate over the list of iterations\n",
    "    for iter in tqdm(iterations):\n",
    "        # Filter the data to only include the relevant dates\n",
    "        df_is = df_prices[(df_prices.index >= iter['in_sample'][0]) & (df_prices.index <= iter['in_sample'][1])]\n",
    "        df_oos = df_prices[(df_prices.index >= iter['out_of_sample'][0]) & (df_prices.index <= iter['out_of_sample'][1])]\n",
    "\n",
    "        # Calculate the optimal parameters using the in-sample data\n",
    "        stats_is, heatmap = optimize_macd_strategy(\n",
    "            df_is, MACDStrategy, fast_periods, slow_periods, signal_periods, metric\n",
    "        )\n",
    "\n",
    "        # Run the backtest for the out-of-sample data using the optimal parameters\n",
    "        fast_period = stats_is._strategy.fast_period\n",
    "        slow_period = stats_is._strategy.slow_period\n",
    "        signal_period = stats_is._strategy.signal_period\n",
    "\n",
    "        stats_oos = execute_macd_strategy(\n",
    "            df_oos, MACDStrategy, fast_period=fast_period, slow_period=slow_period, signal_period=signal_period\n",
    "        )\n",
    "\n",
    "        def calculate_wfe(oos, ins):\n",
    "            if ins != 0:\n",
    "                return (oos/ins)\n",
    "\n",
    "        wfe = calculate_wfe(stats_oos['Sharpe Ratio'], stats_is['Sharpe Ratio'])\n",
    "\n",
    "        # Append relevant metrics to a list of results\n",
    "        report.append({\n",
    "            'start_date': stats_oos['Start'],\n",
    "            'end_date': stats_oos['End'],\n",
    "            'return_strat': stats_oos['Return [%]'],\n",
    "            'max_drawdown': stats_oos['Max. Drawdown [%]'],\n",
    "            'ret_strat_ann': stats_oos['Return (Ann.) [%]'],\n",
    "            'profit_factor': stats_oos['Profit Factor'],\n",
    "            'volatility_strat_ann': stats_oos['Volatility (Ann.) [%]'],\n",
    "            'is_sharpe_ratio': stats_is['Sharpe Ratio'],\n",
    "            'oos_sharpe_ratio': stats_oos['Sharpe Ratio'],\n",
    "            'return_bh': stats_oos['Buy & Hold Return [%]'],\n",
    "            'WFE': wfe,\n",
    "            'fast_period': fast_period,\n",
    "            'slow_period': slow_period,\n",
    "            'signal_period': signal_period\n",
    "        })\n",
    "\n",
    "    df_report = pd.DataFrame(report)\n",
    "    df_report.to_csv(output_file, index=False)\n",
    "\n",
    "\n",
    "if __name__ == \"__main__\":\n",
    "    # List of currency tickers\n",
    "    tickers = [\"EURUSD=X\", \"GBPUSD=X\", \"JPY=X\", \"AUDUSD=X\", \"CAD=X\", \"CHF=X\", \"NZDUSD=X\", \"CNY=X\", \"HKD=X\", \"SGD=X\", \"INR=X\", \"RUB=X\", \"MXN=X\", \"ZAR=X\", \"KRW=X\"]\n",
    "\n",
    "    start_date = \"2023-01-01\"\n",
    "    end_date = \"2024-11-22\"\n",
    "\n",
    "    # Assuming getYahooFinanceData() fetches historical data from Yahoo Finance\n",
    "    data_obj = getYahooFinanceData()\n",
    "    currency_data = data_obj.fetch_data(start_date, end_date, tickers)\n",
    "\n",
    "    # Define strategy parameters\n",
    "    metric = \"Sharpe Ratio\"\n",
    "    fast_periods = range(5, 30, 1)  # Fast EMA periods\n",
    "    slow_periods = range(20, 50, 1)  # Slow EMA periods\n",
    "    signal_periods = range(5, 20, 1)  # Signal line periods\n",
    "    cash = 10**5\n",
    "    commission = 0.001\n",
    "    start_date = date(2023, 1, 1)\n",
    "    end_date = datetime(2024, 11, 22)\n",
    "\n",
    "    # Define the parameters of the iterations (e.g., 6 months in-sample and 6 months out-of-sample)\n",
    "    in_sample_duration = pd.DateOffset(months=6)\n",
    "    out_of_sample_duration = pd.DateOffset(months=6)\n",
    "\n",
    "    iterations = []\n",
    "    for i in range(0, 3):\n",
    "        in_sample_start = start_date + i * in_sample_duration\n",
    "        in_sample_end = in_sample_start + in_sample_duration - timedelta(hours=1)\n",
    "        out_of_sample_start = in_sample_end + timedelta(hours=1)\n",
    "        out_of_sample_end = out_of_sample_start + out_of_sample_duration - timedelta(hours=1)\n",
    "\n",
    "        # Make the datetime objects timezone-aware in UTC\n",
    "        in_sample_start = pytz.utc.localize(in_sample_start)\n",
    "        in_sample_end = pytz.utc.localize(in_sample_end)\n",
    "        out_of_sample_start = pytz.utc.localize(out_of_sample_start)\n",
    "        out_of_sample_end = pytz.utc.localize(out_of_sample_end)\n",
    "\n",
    "        iterations.append({\n",
    "            'in_sample': [in_sample_start, in_sample_end],\n",
    "            'out_of_sample': [out_of_sample_start, out_of_sample_end]\n",
    "        })\n",
    "\n",
    "    for currency, data in currency_data.items():\n",
    "        if data.index.tz is None:\n",
    "            # Localize to UTC\n",
    "           \n",
    "            data.index = data.index.tz_localize('UTC')\n",
    "\n",
    "        data.index = data.index.tz_convert('UTC')\n",
    "        print(len(data))\n",
    "\n",
    "        output_file = 'output/walk_forward_results_' + currency + '.csv'\n",
    "\n",
    "        walk_forward_macd(data, MACDStrategy, iterations, fast_periods, slow_periods, signal_periods, metric, output_file=output_file)\n"
   ]
  },
  {
   "cell_type": "code",
   "execution_count": null,
   "id": "501abc9d-0e06-498c-a5ae-aae343227a67",
   "metadata": {},
   "outputs": [],
   "source": [
    "import numpy as np\n",
    "import pandas as pd\n",
    "import os\n",
    "from backtesting import Backtest, Strategy\n",
    "from datetime import datetime, timedelta, date\n",
    "import yfinance as yf\n",
    "from tqdm import tqdm\n",
    "import pytz\n",
    "import talib\n",
    "\n",
    "\n",
    "def localize_data(data):\n",
    "  \"\"\"\n",
    "  Localizes the index of a DataFrame to UTC\n",
    "\n",
    "  Args:\n",
    "      data: DataFrame with potentially non-localized index\n",
    "\n",
    "  Returns:\n",
    "      A DataFrame with its index localized to UTC\n",
    "  \"\"\"\n",
    "  if data.index.tz is None:\n",
    "    data.index = data.index.tz_localize('UTC')\n",
    "  data.index = data.index.tz_convert('UTC')\n",
    "  return data\n",
    "\n",
    "\n",
    "def define_walk_forward_iterations(start_date, end_date, in_sample_duration, out_of_sample_duration, num_iterations):\n",
    "  \"\"\"\n",
    "  Defines a list of dictionaries representing walk-forward iterations\n",
    "\n",
    "  Args:\n",
    "      start_date: Overall start date (date object)\n",
    "      end_date: Overall end date (datetime object)\n",
    "      in_sample_duration: Length of the in-sample period (DateOffset object)\n",
    "      out_of_sample_duration: Length of the out-of-sample period (DateOffset object)\n",
    "      num_iterations: Number of walk-forward iterations (int)\n",
    "\n",
    "  Returns:\n",
    "      A list of dictionaries where each dictionary represents an iteration with\n",
    "      in-sample and out-of-sample start and end dates\n",
    "  \"\"\"\n",
    "  iterations = []\n",
    "  for i in range(num_iterations):\n",
    "    in_sample_start = start_date \n",
    "    in_sample_end = in_sample_start + in_sample_duration - timedelta(hours=1)\n",
    "    out_of_sample_start = in_sample_end + timedelta(hours=1)\n",
    "    out_of_sample_end = out_of_sample_start + out_of_sample_duration - timedelta(hours=1)\n",
    "\n",
    "    # Make the datetime objects timezone-aware in UTC\n",
    "    in_sample_start = pytz.utc.localize(in_sample_start)\n",
    "    in_sample_end = pytz.utc.localize(in_sample_end)\n",
    "    out_of_sample_start = pytz.utc.localize(out_of_sample_start)\n",
    "    out_of_sample_end = pytz.utc.localize(out_of_sample_end)\n",
    "\n",
    "    iterations.append({\n",
    "        'in_sample': [in_sample_start, in_sample_end],\n",
    "        'out_of_sample': [out_of_sample_start, out_of_sample_end]\n",
    "    })\n",
    "  return iterations\n",
    "\n",
    "\n",
    "def calculate_walk_forward_metric(oos_metric, ins_metric):\n",
    "  \"\"\"\n",
    "  Calculates a Walk Forward metric (e.g., WFE)\n",
    "\n",
    "  Args:\n",
    "      oos_metric: Out-of-sample metric value (float)\n",
    "      ins_metric: In-sample metric value (float)\n",
    "\n",
    "  Returns:\n",
    "      The calculated Walk Forward metric (float)\n",
    "  \"\"\"\n",
    "  if ins_metric != 0:\n",
    "    return (oos_metric / ins_metric)\n",
    "  else:\n",
    "    return np.nan  # Handle division by zero\n"
   ]
  },
  {
   "cell_type": "code",
   "execution_count": null,
   "id": "2745fdb3-7c46-4f3a-beaf-66c4ad078030",
   "metadata": {},
   "outputs": [],
   "source": []
  },
  {
   "cell_type": "code",
   "execution_count": null,
   "id": "9a46602d-4ce0-44d2-bb62-afeda6b47e7a",
   "metadata": {},
   "outputs": [],
   "source": [
    "\"\"\"This script executes, optimizes, or performs a train-test split\n",
    "optimization on a MACD trading strategy for specified instruments\"\"\"\n",
    "\n",
    "import sys\n",
    "import logging\n",
    "import pandas as pd\n",
    "import matplotlib.pyplot as plt\n",
    "from utils import utils\n",
    "from lib_macd import macd_modules as mm\n",
    "from configs import configs\n",
    "import seaborn as sns\n",
    "\n",
    "\n",
    "def execute_macd(ticker, data, fast_period, slow_period, signal_period):\n",
    "    \"\"\"\n",
    "    Execute the MACD strategy and save the results as CSV and plots.\n",
    "\n",
    "    Args:\n",
    "        ticker (str): The ticker symbol for the financial instrument.\n",
    "        data (DataFrame): The market data for the instrument.\n",
    "        fast_period (int): The fast period for the MACD strategy.\n",
    "        slow_period (int): The slow period for the MACD strategy.\n",
    "        signal_period (int): The signal period for the MACD strategy.\n",
    "    \"\"\"\n",
    "    try:\n",
    "        report = []\n",
    "        stats = mm.execute_macd_strategy(\n",
    "            data, mm.MACDStrategy, fast_period=fast_period,\n",
    "            slow_period=slow_period, signal_period=signal_period)\n",
    "\n",
    "        report.append({\n",
    "            'start_date': stats['Start'],\n",
    "            'end_date': stats['End'],\n",
    "            'return_strat': stats['Return [%]'],\n",
    "            'max_drawdown': stats['Max. Drawdown [%]'],\n",
    "            'ret_strat_ann': stats['Return (Ann.) [%]'],\n",
    "            'profit_factor': stats['Profit Factor'],\n",
    "            'volatility_strat_ann': stats['Volatility (Ann.) [%]'],\n",
    "            'sharpe_ratio': stats['Sharpe Ratio'],\n",
    "            'return_bh': stats['Buy & Hold Return [%]'],\n",
    "            'cagr': stats['CAGR (%)'],\n",
    "            'fast_period': fast_period,\n",
    "            'slow_period': slow_period,\n",
    "            'signal_period': signal_period\n",
    "        })\n",
    "\n",
    "def optimize_macd(ticker, data, fast_periods, slow_periods, signal_periods):\n",
    "    \"\"\"\n",
    "    Optimize the MACD strategy and save the results as CSV and plots.\n",
    "\n",
    "    Args:\n",
    "        ticker (str): The ticker symbol for the financial instrument.\n",
    "        data (DataFrame): The market data for the instrument.\n",
    "        fast_periods (range): The range of fast periods to optimize.\n",
    "        slow_periods (range): The range of slow periods to optimize.\n",
    "        signal_periods (range): The range of signal periods to optimize.\n",
    "    \"\"\"\n",
    "    try:\n",
    "        report = []\n",
    "        metric = \"Sharpe Ratio\"\n",
    "        stats, heatmap = mm.optimize_macd_strategy(\n",
    "            data, mm.MACDStrategy, fast_periods,\n",
    "            slow_periods, signal_periods, metric)\n",
    "\n",
    "        report.append({\n",
    "            'start_date': stats['Start'],\n",
    "            'end_date': stats['End'],\n",
    "            'return_strat': stats['Return [%]'],\n",
    "            'max_drawdown': stats['Max. Drawdown [%]'],\n",
    "            'ret_strat_ann': stats['Return (Ann.) [%]'],\n",
    "            'profit_factor': stats['Profit Factor'],\n",
    "            'volatility_strat_ann': stats['Volatility (Ann.) [%]'],\n",
    "            'sharpe_ratio': stats['Sharpe Ratio'],\n",
    "            'return_bh': stats['Buy & Hold Return [%]'],\n",
    "            'cagr': stats['CAGR (%)'],\n",
    "            'fast_period': stats._strategy.fast_period,\n",
    "            'slow_period': stats._strategy.slow_period,\n",
    "            'signal_period': stats._strategy.signal_period\n",
    "        })\n",
    "\n",
    "\n"
   ]
  },
  {
   "cell_type": "code",
   "execution_count": null,
   "id": "bdd81f7f-c18d-4418-a293-e78f17426e01",
   "metadata": {},
   "outputs": [],
   "source": [
    "walk_forward_results = pd.DataFrame()\n",
    "\n",
    "for filename in os.listdir('output/'):\n",
    "    file_details = filename.split('_')\n",
    "    file_details = [x.replace('.csv', '') for x in file_details]\n",
    "    \n",
    "    # Load the walk-forward results\n",
    "    if file_details[0] == 'walk':\n",
    "        currency = file_details[3]\n",
    "        if currency in tickers:\n",
    "            df_results = pd.read_csv(f\"output/walk_forward_results_{currency}.csv\")\n",
    "            df_results['currency'] = currency\n",
    "            walk_forward_results = pd.concat([df_results, walk_forward_results])\n",
    "\n",
    "walk_forward_results['start_date'] = walk_forward_results['start_date'].apply(lambda x: datetime.strptime(x[:-6], '%Y-%m-%d %H:%M:%S').date())\n",
    "walk_forward_results['end_date'] = walk_forward_results['end_date'].apply(lambda x: datetime.strptime(x[:-6], '%Y-%m-%d %H:%M:%S').date())\n",
    "walk_forward_results = walk_forward_results.rename(columns={'ret_strat_ann':'ret_ann', 'volatility_strat_ann':'vol_ann'})\n",
    "\n",
    "# walk_forward_results['start_date'] = walk_forward_results['start_date'].apply(lambda x: datetime.strptime(x[:-6], '%Y-%m-%d %H:%M:%S').date())\n",
    "# walk_forward_results['end_date'] = walk_forward_results['end_date'].apply(lambda x: datetime.strptime(x[:-6], '%Y-%m-%d %H:%M:%S').date())\n",
    "# walk_forward_results = walk_forward_results.rename(columns={'ret_strat_ann':'ret_ann', 'volatility_strat_ann':'vol_ann'})\n",
    "\n",
    "agg_list = ['return_strat', 'max_drawdown', 'ret_ann', 'profit_factor', 'vol_ann', 'is_sharpe_ratio', 'oos_sharpe_ratio', 'return_bh', 'WFE', 'fast_period', 'slow_period', 'signal_period']\n",
    "round(walk_forward_results.groupby(['currency', 'start_date', 'end_date']).agg({x:'mean' for x in agg_list}).fillna(0), 2).to_csv('output/combined_wfo_results.csv')\n",
    "\n"
   ]
  },
  {
   "cell_type": "code",
   "execution_count": 7,
   "id": "a3497865-a1fe-4000-901c-54d512b02260",
   "metadata": {},
   "outputs": [],
   "source": [
    "## MACd on forex"
   ]
  },
  {
   "cell_type": "code",
   "execution_count": 1,
   "id": "831a689d-7807-46e6-a8d2-3bd055a2fe92",
   "metadata": {},
   "outputs": [],
   "source": [
    "# import numpy as np\n",
    "# import pandas as pd\n",
    "# import os\n",
    "# from backtesting import Backtest, Strategy\n",
    "# from datetime import datetime, timedelta, date\n",
    "# import yfinance as yf\n",
    "# from tqdm import tqdm\n",
    "# import pytz\n",
    "# import talib\n",
    "\n",
    "# tickers = [\"EURUSD=X\", \"GBPUSD=X\", \"JPY=X\", \"AUDUSD=X\", \"CAD=X\", \"CHF=X\", \"NZDUSD=X\", \"CNY=X\", \"HKD=X\", \"SGD=X\", \"INR=X\", \"RUB=X\", \"MXN=X\", \"ZAR=X\", \"KRW=X\"]\n",
    "\n",
    "# start_date = \"2023-01-01\"\n",
    "# end_date = \"2024-11-22\"\n",
    "\n",
    "# data_obj = getYahooFinanceData()\n",
    "# currency_data = data_obj.fetch_data(start_date, end_date, tickers)\n",
    "\n",
    "# metric = \"Sharpe Ratio\"\n",
    "# fast_periods = range(5, 80, 1)\n",
    "# slow_periods = range(5, 80, 1)\n",
    "# signal_periods = range(5, 80, 1)\n",
    "# cash = 10**5\n",
    "\n",
    "# report = []\n",
    "# for currency, data in currency_data.items():\n",
    "#     print(\"running for currency: \", currency)\n",
    "#     stats_is, heatmap = optimize_macd_strategy(data, MACDStrategy, fast_periods, slow_periods, signal_periods, metric)\n",
    "#     report.append({\n",
    "#             'currency': currency,\n",
    "#             'return_strat': stats_is['Return [%]'],\n",
    "#             'max_drawdown': stats_is['Max. Drawdown [%]'],\n",
    "#             'ret_strat_ann': stats_is['Return (Ann.) [%]'],\n",
    "#             'profit_factor': stats_is['Profit Factor'],\n",
    "#             'volatility_strat_ann': stats_is['Volatility (Ann.) [%]'],\n",
    "#             'is_sharpe_ratio': stats_is['Sharpe Ratio'],\n",
    "#             'oos_sharpe_ratio': stats_is['Sharpe Ratio'],\n",
    "#             'return_bh': stats_is['Buy & Hold Return [%]'],\n",
    "#             'fast_period': stats_is._strategy.fast_period,\n",
    "#             'slow_period': stats_is._strategy.slow_period,\n",
    "#             'signal_period': stats_is._strategy.signal_period,\n",
    "#         })\n"
   ]
  },
  {
   "cell_type": "code",
   "execution_count": 17,
   "id": "42953a1a-eba1-42f2-a4ef-811f0ce04358",
   "metadata": {},
   "outputs": [],
   "source": [
    "# pd.DataFrame(report).to_csv(\"output/currency_results.csv\")"
   ]
  },
  {
   "cell_type": "code",
   "execution_count": null,
   "id": "5dc472b0-5f27-44a4-b6d8-918c548c42c7",
   "metadata": {},
   "outputs": [],
   "source": []
  }
 ],
 "metadata": {
  "kernelspec": {
   "display_name": "Python 3 (ipykernel)",
   "language": "python",
   "name": "python3"
  },
  "language_info": {
   "codemirror_mode": {
    "name": "ipython",
    "version": 3
   },
   "file_extension": ".py",
   "mimetype": "text/x-python",
   "name": "python",
   "nbconvert_exporter": "python",
   "pygments_lexer": "ipython3",
   "version": "3.12.4"
  }
 },
 "nbformat": 4,
 "nbformat_minor": 5
}
