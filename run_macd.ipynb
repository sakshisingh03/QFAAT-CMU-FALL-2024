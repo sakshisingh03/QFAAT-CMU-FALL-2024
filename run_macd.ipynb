{
 "cells": [
  {
   "cell_type": "code",
   "execution_count": 37,
   "id": "271aac7e-3335-47a0-82bf-c8f02049bc46",
   "metadata": {},
   "outputs": [],
   "source": [
    "import os\n",
    "import pandas as pd"
   ]
  },
  {
   "cell_type": "code",
   "execution_count": 51,
   "id": "e97f9c55-d6e2-41a3-b089-7228d60870d0",
   "metadata": {
    "scrolled": true
   },
   "outputs": [],
   "source": [
    "tickers = ['SPY', 'AAPL']\n",
    "instrument_type = 'equity'\n",
    "\n"
   ]
  },
  {
   "cell_type": "code",
   "execution_count": 53,
   "id": "0354081c-68a0-4d4b-add0-040043935f09",
   "metadata": {},
   "outputs": [
    {
     "name": "stdout",
     "output_type": "stream",
     "text": [
      "['executed', 'equity', 'curve', 'CAD=X.png']\n",
      "['optimized', 'equity', 'curve', 'RUB=X.png']\n",
      "['optimization', 'results', 'GBPUSD=X.png']\n",
      "['execution', 'results', 'SPY']\n",
      "['optimized', 'heatmap', 'AAPL.png']\n",
      "['optimized', 'equity', 'curve', 'CHF=X.png']\n",
      "['optimized', 'equity', 'curve', 'EURUSD=X.png']\n",
      "['execution', 'results', 'CAD=X']\n",
      "['optimized', 'equity', 'curve', 'AUDUSD=X.png']\n",
      "['executed', 'equity', 'curve', 'GBPUSD=X.png']\n",
      "['execution', 'results', 'EURUSD=X']\n",
      "['optimized', 'equity', 'curve', 'MXN=X.png']\n",
      "['optimized', 'heatmap', 'SPY.png']\n",
      "['execution', 'results', 'AUDUSD=X']\n",
      "['executed', 'equity', 'curve', 'KRW=X.png']\n",
      "['executed', 'equity', 'curve', 'HKD=X.png']\n",
      "['optimized', 'equity', 'curve', 'JPY=X.png']\n",
      "['optimized', 'heatmap', 'AUDUSD=X.png']\n",
      "['optimized', 'heatmap', 'INR=X.png']\n",
      "['optimized', 'heatmap', 'ZAR=X.png']\n",
      "['execution', 'results', 'HKD=X']\n",
      "['execution', 'results', 'KRW=X']\n",
      "['optimization', 'results', 'ZAR=X.png']\n",
      "['optimized', 'heatmap', 'EURUSD=X.png']\n",
      "['optimization', 'results', 'INR=X.png']\n",
      "['executed', 'equity', 'curve', 'INR=X.png']\n",
      "['executed', 'equity', 'curve', 'ZAR=X.png']\n",
      "['optimized', 'equity', 'curve', 'SGD=X.png']\n",
      "['optimized', 'heatmap', 'GBPUSD=X.png']\n",
      "['executed', 'equity', 'curve', 'SPY.png']\n",
      "['optimization', 'results', 'HKD=X.png']\n",
      "['execution', 'results', 'ZAR=X']\n",
      "['executed', 'equity', 'curve', 'AUDUSD=X.png']\n",
      "['execution', 'results', 'INR=X']\n",
      "['execution', 'results', 'AAPL']\n",
      "['optimization', 'results', 'KRW=X.png']\n",
      "['executed', 'equity', 'curve', 'EURUSD=X.png']\n",
      "['optimized', 'heatmap', 'KRW=X.png']\n",
      "['execution', 'results', 'GBPUSD=X']\n",
      "['optimization', 'results', 'AAPL.png']\n",
      "['optimized', 'heatmap', 'HKD=X.png']\n",
      "['optimized', 'equity', 'curve', 'SPY.png']\n",
      "['optimized', 'equity', 'curve', 'GBPUSD=X.png']\n",
      "['optimized', 'equity', 'curve', 'CNY=X.png']\n",
      "['optimized', 'heatmap', 'CAD=X.png']\n",
      "['optimization', 'results', 'AUDUSD=X.png']\n",
      "['optimization', 'results', 'SPY.png']\n",
      "['optimization', 'results', 'EURUSD=X.png']\n",
      "['optimization', 'results', 'CAD=X.png']\n",
      "['optimized', 'equity', 'curve', 'AAPL.png']\n",
      "['executed', 'equity', 'curve', 'CNY=X.png']\n",
      "['optimized', 'heatmap', 'RUB=X.png']\n",
      "['executed', 'equity', 'curve', 'NZDUSD=X.png']\n",
      "['optimization', 'results', 'CHF=X.png']\n",
      "['execution', 'results', 'CNY=X']\n",
      "['optimization', 'results', 'RUB=X.png']\n",
      "['optimized', 'heatmap', 'CHF=X.png']\n",
      "['optimized', 'equity', 'curve', 'INR=X.png']\n",
      "['optimized', 'equity', 'curve', 'ZAR=X.png']\n",
      "['executed', 'equity', 'curve', 'SGD=X.png']\n",
      "['optimization', 'results', 'NZDUSD=X.png']\n",
      "['execution', 'results', 'SGD=X']\n",
      "['optimization', 'results', 'JPY=X.png']\n",
      "['optimized', 'heatmap', 'MXN=X.png']\n",
      "['optimization', 'results', 'MXN=X.png']\n",
      "['optimized', 'heatmap', 'JPY=X.png']\n",
      "['executed', 'equity', 'curve', 'MXN=X.png']\n",
      "['optimized', 'equity', 'curve', 'KRW=X.png']\n",
      "['executed', 'equity', 'curve', 'AAPL.png']\n",
      "['executed', 'equity', 'curve', 'JPY=X.png']\n",
      "['optimized', 'equity', 'curve', 'HKD=X.png']\n",
      "['execution', 'results', 'MXN=X']\n",
      "['optimized', 'heatmap', 'SGD=X.png']\n",
      "['execution', 'results', 'JPY=X']\n",
      "['optimization', 'results', 'SGD=X.png']\n",
      "['optimized', 'equity', 'curve', 'NZDUSD=X.png']\n",
      "['optimized', 'equity', 'curve', 'CAD=X.png']\n",
      "['executed', 'equity', 'curve', 'RUB=X.png']\n",
      "['executed', 'equity', 'curve', 'CHF=X.png']\n",
      "['execution', 'results', 'NZDUSD=X']\n",
      "['optimization', 'results', 'CNY=X.png']\n",
      "['execution', 'results', 'RUB=X']\n",
      "['optimized', 'heatmap', 'NZDUSD=X.png']\n",
      "['execution', 'results', 'CHF=X']\n",
      "['optimized', 'heatmap', 'CNY=X.png']\n"
     ]
    }
   ],
   "source": [
    "combine_execution_results(instrument_type, tickers)"
   ]
  },
  {
   "cell_type": "code",
   "execution_count": null,
   "id": "ad92d8d6-5ca1-4250-8fa4-6bb218a06516",
   "metadata": {},
   "outputs": [],
   "source": []
  }
 ],
 "metadata": {
  "kernelspec": {
   "display_name": "Python 3 (ipykernel)",
   "language": "python",
   "name": "python3"
  },
  "language_info": {
   "codemirror_mode": {
    "name": "ipython",
    "version": 3
   },
   "file_extension": ".py",
   "mimetype": "text/x-python",
   "name": "python",
   "nbconvert_exporter": "python",
   "pygments_lexer": "ipython3",
   "version": "3.12.4"
  }
 },
 "nbformat": 4,
 "nbformat_minor": 5
}
